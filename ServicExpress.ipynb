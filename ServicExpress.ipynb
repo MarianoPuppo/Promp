{
 "cells": [
  {
   "cell_type": "markdown",
   "id": "f48d1e4f-5bf0-4291-9f10-e4fa452dfee6",
   "metadata": {},
   "source": [
    "1. Import openAI dependences (load with conda install openai)"
   ]
  },
  {
   "cell_type": "markdown",
   "id": "6180968b-5de0-4e1d-91e1-bb0607b62ebe",
   "metadata": {},
   "source": [
    "2. Use the API Key from openAI page"
   ]
  },
  {
   "cell_type": "code",
   "execution_count": 1,
   "id": "6f5e6bba-f9b0-4d27-a0c2-ceede346e2fd",
   "metadata": {
    "scrolled": true
   },
   "outputs": [],
   "source": [
    "\n",
    "#Import openAI dependences (module)\n",
    "\n",
    "import openai"
   ]
  },
  {
   "cell_type": "code",
   "execution_count": 2,
   "id": "aaa13f6c-6aee-4ddd-92b7-33dbbf66ea3c",
   "metadata": {},
   "outputs": [],
   "source": [
    "#Add our API Key copied from openAI page\n",
    "openai.api_key = \"\""
   ]
  },
  {
   "cell_type": "markdown",
   "id": "133396b5-0a78-4b9a-a1c0-8c81d7744f9b",
   "metadata": {},
   "source": [
    "3. Make a request"
   ]
  },
  {
   "cell_type": "code",
   "execution_count": 16,
   "id": "f7c1fc76-a9ea-4df9-9324-d83bba8bfc0c",
   "metadata": {
    "scrolled": true
   },
   "outputs": [],
   "source": [
    "#Make the context of our prompt envoirement\n",
    "context = 'Eres asistente en la App ServiceExpress, que conecta usuarios con profesionales de diversos trabajos, como por ejemplo, electricista, plomero, pintor. Tenes que evaluar los comentarios, en orden aleatorio, de los usuarios, para decir que tan satisfechos estan con ese profesional y a la vez, proponer puntos de mejoras. Agregando un Icono de una cara, mala, media o buena, respecto al comentario'\n",
    "\n",
    "#prompt (text/user's question)\n",
    "prompt = \"\"\"\n",
    "Claro, aquí tienes 10 nombres y profesiones con el formato solicitado:\n",
    "\n",
    "1. Juan Pérez - Plomero\n",
    "   - Usuario: Ana87\n",
    "   - Comentario: \"Excelente trabajo, rápido y eficiente.\"\n",
    "\n",
    "2. María López - Electricista\n",
    "   - Usuario: CarlosTech\n",
    "   - Comentario: \"Muy profesional, solucionó todos los problemas eléctricos, aunque uso materiales de calidad media-baja\"\n",
    "\n",
    "3. Pedro Gómez - Pintor  \n",
    "   - Usuario: SofiaArt  \n",
    "   - Comentario: \"Trabajo impecable, muy detallista.\"\n",
    "\n",
    "4. Lucía Fernández - Carpintera  \n",
    "   - Usuario: DavidDIY  \n",
    "   - Comentario: \"Trabajo de alta calidad, muy recomendable.\"\n",
    "\n",
    "5. Carlos Martínez - Albañil  \n",
    "   - Usuario: LauraHome  \n",
    "   - Comentario: \"Muy responsable y comprometido con su trabajo, pero solo usa repuestos muy costosos\"\n",
    "\n",
    "6. Laura García - Fontanera  \n",
    "   - Usuario: JuanCasa  \n",
    "   - Comentario: \"Excelente servicio, muy profesional.\"\n",
    "\n",
    "7. Miguel Rodríguez - Jardinero  \n",
    "   - Usuario: RosaFlores  \n",
    "   - Comentario: \"Transformó mi jardín, muy creativo.\"\n",
    "\n",
    "8. Ana González - Mecánica  \n",
    "   - Usuario: MarioCar  \n",
    "   - Comentario: \"Reparación rápida y eficiente.\"\n",
    "\n",
    "9. José Hernández - Cerrajero  \n",
    "   - Usuario: MariaLlaves  \n",
    "   - Comentario: \"Servicio rápido y confiable, pero muy lento y sucio al trabajar\"\n",
    "\n",
    "10. Elena Sánchez - Decoradora de Interiores  \n",
    "    - Usuario: ClaraDeco  \n",
    "    - Comentario: \"Transformó mi casa, excelente gusto y creatividad, pero tiene un precio elevado\"\n",
    "\"\"\""
   ]
  },
  {
   "cell_type": "markdown",
   "id": "a42ce140-d99c-492e-ad64-9de2719ea75e",
   "metadata": {},
   "source": [
    "4. Settings"
   ]
  },
  {
   "cell_type": "code",
   "execution_count": 17,
   "id": "1ce51fc0-ce3e-4db1-8ab5-4d9447252af9",
   "metadata": {},
   "outputs": [
    {
     "name": "stdout",
     "output_type": "stream",
     "text": [
      "assistant: 1. Juan Pérez - Plomero\n",
      "   - Usuario: Ana87\n",
      "   - Comentario: \"Excelente trabajo, rápido y eficiente.\"\n",
      "   - Satisfacción del usuario: 😀\n",
      "   - Puntos de mejora: Podría comunicarse mejor con el cliente para informar sobre los pasos a seguir en la reparación.\n",
      "\n",
      "3. Pedro Gómez - Pintor  \n",
      "   - Usuario: SofiaArt  \n",
      "   - Comentario: \"Trabajo impecable, muy detallista.\"\n",
      "   - Satisfacción del usuario: 🙂\n",
      "   - Puntos de mejora: Podría mejorar la puntualidad en la realización del trabajo.\n",
      "\n",
      "7. Miguel Rodríguez - Jardinero  \n",
      "   - Usuario: RosaFlores  \n",
      "   - Comentario: \"Transformó mi jardín, muy creativo.\"\n",
      "   - Satisfacción del usuario: 🙂\n",
      "   - Puntos de mejora: Podría ofrecer\n"
     ]
    }
   ],
   "source": [
    "# Make the request\n",
    "conversation = [\n",
    "    {\"role\": \"system\", \"content\": context},\n",
    "    {\"role\": \"user\", \"content\": prompt}\n",
    "]\n",
    "\n",
    "response = openai.ChatCompletion.create(\n",
    "    model='gpt-3.5-turbo',\n",
    "    messages=conversation,\n",
    "    max_tokens=200\n",
    ")\n",
    "\n",
    "message = response.choices[0]['message']\n",
    "print(\"{}: {}\".format(message['role'], message['content']))"
   ]
  },
  {
   "cell_type": "code",
   "execution_count": null,
   "id": "72a6ddf2-d31e-4693-abaf-dbbe0e9cac16",
   "metadata": {},
   "outputs": [],
   "source": []
  }
 ],
 "metadata": {
  "kernelspec": {
   "display_name": "Python 3 (ipykernel)",
   "language": "python",
   "name": "python3"
  },
  "language_info": {
   "codemirror_mode": {
    "name": "ipython",
    "version": 3
   },
   "file_extension": ".py",
   "mimetype": "text/x-python",
   "name": "python",
   "nbconvert_exporter": "python",
   "pygments_lexer": "ipython3",
   "version": "3.12.4"
  }
 },
 "nbformat": 4,
 "nbformat_minor": 5
}
